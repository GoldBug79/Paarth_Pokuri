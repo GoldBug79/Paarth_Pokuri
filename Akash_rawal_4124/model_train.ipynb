{
 "cells": [
  {
   "cell_type": "code",
   "execution_count": 1,
   "id": "ddee0362",
   "metadata": {},
   "outputs": [],
   "source": [
    "from ultralytics import YOLO"
   ]
  },
  {
   "cell_type": "code",
   "execution_count": 3,
   "id": "7bbf61f9",
   "metadata": {},
   "outputs": [
    {
     "name": "stdout",
     "output_type": "stream",
     "text": [
      "Ultralytics 8.3.203  Python-3.13.4 torch-2.8.0+cpu CPU (AMD Ryzen 7 7735U with Radeon Graphics)\n",
      "\u001b[34m\u001b[1mengine\\trainer: \u001b[0magnostic_nms=False, amp=True, augment=False, auto_augment=randaugment, batch=8, bgr=0.0, box=7.5, cache=False, cfg=None, classes=None, close_mosaic=10, cls=0.5, compile=False, conf=None, copy_paste=0.0, copy_paste_mode=flip, cos_lr=False, cutmix=0.0, data=data.yaml, degrees=0.0, deterministic=True, device=cpu, dfl=1.5, dnn=False, dropout=0.0, dynamic=False, embed=None, epochs=1, erasing=0.4, exist_ok=False, fliplr=0.5, flipud=0.0, format=torchscript, fraction=1.0, freeze=None, half=False, hsv_h=0.015, hsv_s=0.7, hsv_v=0.4, imgsz=480, int8=False, iou=0.7, keras=False, kobj=1.0, line_width=None, lr0=0.01, lrf=0.01, mask_ratio=4, max_det=300, mixup=0.0, mode=train, model=yolo11n-seg.pt, momentum=0.937, mosaic=1.0, multi_scale=False, name=train2, nbs=64, nms=False, opset=None, optimize=False, optimizer=auto, overlap_mask=True, patience=100, perspective=0.0, plots=True, pose=12.0, pretrained=True, profile=False, project=None, rect=False, resume=False, retina_masks=False, save=True, save_conf=False, save_crop=False, save_dir=C:\\Users\\akash\\akash_rawal_1\\Akash_rawal\\Akash_rawal_4124\\runs\\segment\\train2, save_frames=False, save_json=False, save_period=-1, save_txt=False, scale=0.5, seed=42, shear=0.0, show=False, show_boxes=True, show_conf=True, show_labels=True, simplify=True, single_cls=False, source=None, split=val, stream_buffer=False, task=segment, time=None, tracker=botsort.yaml, translate=0.1, val=True, verbose=True, vid_stride=1, visualize=False, warmup_bias_lr=0.1, warmup_epochs=3.0, warmup_momentum=0.8, weight_decay=0.0005, workers=8, workspace=None\n",
      "Overriding model.yaml nc=80 with nc=2\n",
      "\n",
      "                   from  n    params  module                                       arguments                     \n",
      "  0                  -1  1       464  ultralytics.nn.modules.conv.Conv             [3, 16, 3, 2]                 \n",
      "  1                  -1  1      4672  ultralytics.nn.modules.conv.Conv             [16, 32, 3, 2]                \n",
      "  2                  -1  1      6640  ultralytics.nn.modules.block.C3k2            [32, 64, 1, False, 0.25]      \n",
      "  3                  -1  1     36992  ultralytics.nn.modules.conv.Conv             [64, 64, 3, 2]                \n",
      "  4                  -1  1     26080  ultralytics.nn.modules.block.C3k2            [64, 128, 1, False, 0.25]     \n",
      "  5                  -1  1    147712  ultralytics.nn.modules.conv.Conv             [128, 128, 3, 2]              \n",
      "  6                  -1  1     87040  ultralytics.nn.modules.block.C3k2            [128, 128, 1, True]           \n",
      "  7                  -1  1    295424  ultralytics.nn.modules.conv.Conv             [128, 256, 3, 2]              \n",
      "  8                  -1  1    346112  ultralytics.nn.modules.block.C3k2            [256, 256, 1, True]           \n",
      "  9                  -1  1    164608  ultralytics.nn.modules.block.SPPF            [256, 256, 5]                 \n",
      " 10                  -1  1    249728  ultralytics.nn.modules.block.C2PSA           [256, 256, 1]                 \n",
      " 11                  -1  1         0  torch.nn.modules.upsampling.Upsample         [None, 2, 'nearest']          \n",
      " 12             [-1, 6]  1         0  ultralytics.nn.modules.conv.Concat           [1]                           \n",
      " 13                  -1  1    111296  ultralytics.nn.modules.block.C3k2            [384, 128, 1, False]          \n",
      " 14                  -1  1         0  torch.nn.modules.upsampling.Upsample         [None, 2, 'nearest']          \n",
      " 15             [-1, 4]  1         0  ultralytics.nn.modules.conv.Concat           [1]                           \n",
      " 16                  -1  1     32096  ultralytics.nn.modules.block.C3k2            [256, 64, 1, False]           \n",
      " 17                  -1  1     36992  ultralytics.nn.modules.conv.Conv             [64, 64, 3, 2]                \n",
      " 18            [-1, 13]  1         0  ultralytics.nn.modules.conv.Concat           [1]                           \n",
      " 19                  -1  1     86720  ultralytics.nn.modules.block.C3k2            [192, 128, 1, False]          \n",
      " 20                  -1  1    147712  ultralytics.nn.modules.conv.Conv             [128, 128, 3, 2]              \n",
      " 21            [-1, 10]  1         0  ultralytics.nn.modules.conv.Concat           [1]                           \n",
      " 22                  -1  1    378880  ultralytics.nn.modules.block.C3k2            [384, 256, 1, True]           \n",
      " 23        [16, 19, 22]  1    683830  ultralytics.nn.modules.head.Segment          [2, 32, 64, [64, 128, 256]]   \n",
      "YOLO11n-seg summary: 203 layers, 2,842,998 parameters, 2,842,982 gradients, 9.7 GFLOPs\n",
      "\n",
      "Transferred 510/561 items from pretrained weights\n",
      "Freezing layer 'model.23.dfl.conv.weight'\n",
      "\u001b[34m\u001b[1mtrain: \u001b[0mFast image access  (ping: 0.20.0 ms, read: 107.739.2 MB/s, size: 1479.8 KB)\n",
      "\u001b[K\u001b[34m\u001b[1mtrain: \u001b[0mScanning C:\\Users\\akash\\akash_rawal_1\\Akash_rawal\\Akash_rawal_4124\\Datasets\\mydataset\\labels\\train... 110 images, 2 backgrounds, 0 corrupt: 100% ━━━━━━━━━━━━ 110/110 250.3it/s 0.4s0.0s\n",
      "\u001b[34m\u001b[1mtrain: \u001b[0mC:\\Users\\akash\\akash_rawal_1\\Akash_rawal\\Akash_rawal_4124\\Datasets\\mydataset\\images\\train\\138.jpg: 1 duplicate labels removed\n",
      "\u001b[34m\u001b[1mtrain: \u001b[0mNew cache created: C:\\Users\\akash\\akash_rawal_1\\Akash_rawal\\Akash_rawal_4124\\Datasets\\mydataset\\labels\\train.cache\n",
      "\u001b[34m\u001b[1mval: \u001b[0mFast image access  (ping: 0.20.1 ms, read: 167.782.9 MB/s, size: 2446.7 KB)\n",
      "\u001b[K\u001b[34m\u001b[1mval: \u001b[0mScanning C:\\Users\\akash\\akash_rawal_1\\Akash_rawal\\Akash_rawal_4124\\Datasets\\mydataset\\labels\\val... 10 images, 5 backgrounds, 0 corrupt: 100% ━━━━━━━━━━━━ 15/15 256.5it/s 0.1s\n",
      "\u001b[34m\u001b[1mval: \u001b[0mNew cache created: C:\\Users\\akash\\akash_rawal_1\\Akash_rawal\\Akash_rawal_4124\\Datasets\\mydataset\\labels\\val.cache\n",
      "Plotting labels to C:\\Users\\akash\\akash_rawal_1\\Akash_rawal\\Akash_rawal_4124\\runs\\segment\\train2\\labels.jpg... \n",
      "\u001b[34m\u001b[1moptimizer:\u001b[0m 'optimizer=auto' found, ignoring 'lr0=0.01' and 'momentum=0.937' and determining best 'optimizer', 'lr0' and 'momentum' automatically... \n",
      "\u001b[34m\u001b[1moptimizer:\u001b[0m AdamW(lr=0.001667, momentum=0.9) with parameter groups 90 weight(decay=0.0), 101 weight(decay=0.0005), 100 bias(decay=0.0)\n",
      "Image sizes 480 train, 480 val\n",
      "Using 0 dataloader workers\n",
      "Logging results to \u001b[1mC:\\Users\\akash\\akash_rawal_1\\Akash_rawal\\Akash_rawal_4124\\runs\\segment\\train2\u001b[0m\n",
      "Starting training for 1 epochs...\n",
      "\n",
      "      Epoch    GPU_mem   box_loss   seg_loss   cls_loss   dfl_loss  Instances       Size\n",
      "\u001b[K        1/1         0G      1.009       2.06      3.007      1.039         39        480: 100% ━━━━━━━━━━━━ 14/14 0.4it/s 38.9s2.6ss\n",
      "\u001b[K                 Class     Images  Instances      Box(P          R      mAP50  mAP50-95)     Mask(P          R      mAP50  mAP50-95): 100% ━━━━━━━━━━━━ 1/1 0.2it/s 4.9s\n",
      "                   all         15         35    0.00648      0.868      0.499      0.385    0.00648      0.868      0.497      0.391\n",
      "\n",
      "1 epochs completed in 0.013 hours.\n",
      "Optimizer stripped from C:\\Users\\akash\\akash_rawal_1\\Akash_rawal\\Akash_rawal_4124\\runs\\segment\\train2\\weights\\last.pt, 6.0MB\n",
      "Optimizer stripped from C:\\Users\\akash\\akash_rawal_1\\Akash_rawal\\Akash_rawal_4124\\runs\\segment\\train2\\weights\\best.pt, 6.0MB\n",
      "\n",
      "Validating C:\\Users\\akash\\akash_rawal_1\\Akash_rawal\\Akash_rawal_4124\\runs\\segment\\train2\\weights\\best.pt...\n",
      "Ultralytics 8.3.203  Python-3.13.4 torch-2.8.0+cpu CPU (AMD Ryzen 7 7735U with Radeon Graphics)\n",
      "YOLO11n-seg summary (fused): 113 layers, 2,834,958 parameters, 0 gradients, 9.6 GFLOPs\n",
      "\u001b[K                 Class     Images  Instances      Box(P          R      mAP50  mAP50-95)     Mask(P          R      mAP50  mAP50-95): 100% ━━━━━━━━━━━━ 1/1 0.2it/s 4.9s\n",
      "                   all         15         35    0.00648      0.868      0.499      0.384    0.00648      0.868      0.498      0.391\n",
      "                person          5          9    0.00603      0.889      0.587      0.525    0.00603      0.889      0.587      0.531\n",
      "               vehicle          8         26    0.00693      0.846       0.41      0.242    0.00693      0.846      0.408      0.251\n",
      "Speed: 0.8ms preprocess, 48.8ms inference, 0.0ms loss, 22.9ms postprocess per image\n",
      "Results saved to \u001b[1mC:\\Users\\akash\\akash_rawal_1\\Akash_rawal\\Akash_rawal_4124\\runs\\segment\\train2\u001b[0m\n"
     ]
    }
   ],
   "source": [
    "model = YOLO(\"yolo11n-seg.pt\")\n",
    "results = model.train(data=\"data.yaml\", epochs=1, imgsz=480, batch=8, seed=42)"
   ]
  },
  {
   "cell_type": "code",
   "execution_count": null,
   "id": "039a74bb",
   "metadata": {},
   "outputs": [],
   "source": []
  }
 ],
 "metadata": {
  "kernelspec": {
   "display_name": "Python (myenv)",
   "language": "python",
   "name": "myenv"
  },
  "language_info": {
   "codemirror_mode": {
    "name": "ipython",
    "version": 3
   },
   "file_extension": ".py",
   "mimetype": "text/x-python",
   "name": "python",
   "nbconvert_exporter": "python",
   "pygments_lexer": "ipython3",
   "version": "3.13.4"
  }
 },
 "nbformat": 4,
 "nbformat_minor": 5
}
