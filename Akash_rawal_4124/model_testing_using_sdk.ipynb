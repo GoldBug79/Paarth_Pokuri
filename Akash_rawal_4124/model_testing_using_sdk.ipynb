{
 "cells": [
  {
   "cell_type": "code",
   "execution_count": 1,
   "id": "dfe0189e",
   "metadata": {},
   "outputs": [
    {
     "name": "stdout",
     "output_type": "stream",
     "text": [
      "Uploading pre-annotations (sync)...\n",
      "response_data --  {'message': '200: Success', 'response': {'job_id': '39885bc0-13a4-48e5-9a5a-bfceb0fd8776'}, 'error': None}\n",
      "Preannotation upload successful. Job ID: 39885bc0-13a4-48e5-9a5a-bfceb0fd8776\n",
      "retrying after 5 seconds . . .\n",
      "retrying after 5 seconds . . .\n",
      "retrying after 5 seconds . . .\n",
      "retrying after 5 seconds . . .\n",
      "retrying after 5 seconds . . .\n",
      "retrying after 5 seconds . . .\n",
      "retrying after 5 seconds . . .\n",
      "retrying after 5 seconds . . .\n",
      "retrying after 5 seconds . . .\n",
      "retrying after 5 seconds . . .\n",
      "retrying after 5 seconds . . .\n",
      "retrying after 5 seconds . . .\n",
      "retrying after 5 seconds . . .\n",
      "retrying after 5 seconds . . .\n",
      "Upload returned status: completed\n",
      "Pre-annotations processed successfully.\n"
     ]
    }
   ],
   "source": [
    "from labellerr.client import LabellerrClient\n",
    "from labellerr.exceptions import LabellerrError\n",
    "from dotenv import load_dotenv\n",
    "import os\n",
    "\n",
    "load_dotenv()  \n",
    "\n",
    "API_KEY = os.getenv(\"LABELLERR_API_KEY\")\n",
    "API_SECRET = os.getenv(\"LABELLERR_API_SECRET\")\n",
    "CLIENT_ID = os.getenv(\"LABELLERR_CLIENT_ID\")  \n",
    "PROJECT_ID = \"agatha_hungry_dragon_68592\"\n",
    "ANNOTATION_FILE = \"Datasets/mydataset/annotations/instances_test.json\"\n",
    "ANNOTATION_FORMAT = \"coco_json\"\n",
    "\n",
    "\n",
    "client = LabellerrClient(API_KEY, API_SECRET)\n",
    "\n",
    "try:\n",
    "    print(\"Uploading pre-annotations (sync)...\")\n",
    "    res = client.upload_preannotation_by_project_id(PROJECT_ID, CLIENT_ID, ANNOTATION_FORMAT, ANNOTATION_FILE)\n",
    "    #   response  res['response']['status']\n",
    "    status = res.get('response', {}).get('status')\n",
    "    print(\"Upload returned status:\", status)\n",
    "    if status == 'completed':\n",
    "        print(\"Pre-annotations processed successfully.\")\n",
    "    else:\n",
    "        print(\"Upload returned:\", res)\n",
    "except LabellerrError as e:\n",
    "    print(\"Upload failed:\", str(e))"
   ]
  },
  {
   "cell_type": "code",
   "execution_count": null,
   "id": "c884a4ff",
   "metadata": {},
   "outputs": [],
   "source": []
  }
 ],
 "metadata": {
  "kernelspec": {
   "display_name": "Python (myenv)",
   "language": "python",
   "name": "myenv"
  },
  "language_info": {
   "codemirror_mode": {
    "name": "ipython",
    "version": 3
   },
   "file_extension": ".py",
   "mimetype": "text/x-python",
   "name": "python",
   "nbconvert_exporter": "python",
   "pygments_lexer": "ipython3",
   "version": "3.13.4"
  }
 },
 "nbformat": 4,
 "nbformat_minor": 5
}
