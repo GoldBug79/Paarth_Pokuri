{
  "nbformat": 4,
  "nbformat_minor": 0,
  "metadata": {
    "colab": {
      "provenance": []
    },
    "kernelspec": {
      "name": "python3",
      "display_name": "Python 3"
    },
    "language_info": {
      "name": "python"
    }
  },
  "cells": [
    {
      "cell_type": "code",
      "execution_count": null,
      "metadata": {
        "colab": {
          "base_uri": "https://localhost:8080/"
        },
        "id": "coKgacZg5c5X",
        "outputId": "3b9a7b1a-1548-4d16-f275-aaeea8c531e3"
      },
      "outputs": [
        {
          "output_type": "stream",
          "name": "stdout",
          "text": [
            "Requirement already satisfied: kaggle in /usr/local/lib/python3.12/dist-packages (1.7.4.5)\n",
            "Requirement already satisfied: bleach in /usr/local/lib/python3.12/dist-packages (from kaggle) (6.2.0)\n",
            "Requirement already satisfied: certifi>=14.05.14 in /usr/local/lib/python3.12/dist-packages (from kaggle) (2025.8.3)\n",
            "Requirement already satisfied: charset-normalizer in /usr/local/lib/python3.12/dist-packages (from kaggle) (3.4.3)\n",
            "Requirement already satisfied: idna in /usr/local/lib/python3.12/dist-packages (from kaggle) (3.10)\n",
            "Requirement already satisfied: protobuf in /usr/local/lib/python3.12/dist-packages (from kaggle) (5.29.5)\n",
            "Requirement already satisfied: python-dateutil>=2.5.3 in /usr/local/lib/python3.12/dist-packages (from kaggle) (2.9.0.post0)\n",
            "Requirement already satisfied: python-slugify in /usr/local/lib/python3.12/dist-packages (from kaggle) (8.0.4)\n",
            "Requirement already satisfied: requests in /usr/local/lib/python3.12/dist-packages (from kaggle) (2.32.4)\n",
            "Requirement already satisfied: setuptools>=21.0.0 in /usr/local/lib/python3.12/dist-packages (from kaggle) (75.2.0)\n",
            "Requirement already satisfied: six>=1.10 in /usr/local/lib/python3.12/dist-packages (from kaggle) (1.17.0)\n",
            "Requirement already satisfied: text-unidecode in /usr/local/lib/python3.12/dist-packages (from kaggle) (1.3)\n",
            "Requirement already satisfied: tqdm in /usr/local/lib/python3.12/dist-packages (from kaggle) (4.67.1)\n",
            "Requirement already satisfied: urllib3>=1.15.1 in /usr/local/lib/python3.12/dist-packages (from kaggle) (2.5.0)\n",
            "Requirement already satisfied: webencodings in /usr/local/lib/python3.12/dist-packages (from kaggle) (0.5.1)\n"
          ]
        }
      ],
      "source": [
        "!pip install kaggle\n"
      ]
    },
    {
      "cell_type": "code",
      "source": [
        "from google.colab import files\n",
        "files.upload()  # use the dialog to select & upload kaggle.json\n",
        "\n"
      ],
      "metadata": {
        "colab": {
          "base_uri": "https://localhost:8080/",
          "height": 108
        },
        "id": "16JpQWNb5iZI",
        "outputId": "ff3aaab8-67c8-422d-8e2d-5fd153f19e2a"
      },
      "execution_count": null,
      "outputs": [
        {
          "output_type": "display_data",
          "data": {
            "text/plain": [
              "<IPython.core.display.HTML object>"
            ],
            "text/html": [
              "\n",
              "     <input type=\"file\" id=\"files-4c499385-eb7a-4c0f-a06e-6665cebe7f5a\" name=\"files[]\" multiple disabled\n",
              "        style=\"border:none\" />\n",
              "     <output id=\"result-4c499385-eb7a-4c0f-a06e-6665cebe7f5a\">\n",
              "      Upload widget is only available when the cell has been executed in the\n",
              "      current browser session. Please rerun this cell to enable.\n",
              "      </output>\n",
              "      <script>// Copyright 2017 Google LLC\n",
              "//\n",
              "// Licensed under the Apache License, Version 2.0 (the \"License\");\n",
              "// you may not use this file except in compliance with the License.\n",
              "// You may obtain a copy of the License at\n",
              "//\n",
              "//      http://www.apache.org/licenses/LICENSE-2.0\n",
              "//\n",
              "// Unless required by applicable law or agreed to in writing, software\n",
              "// distributed under the License is distributed on an \"AS IS\" BASIS,\n",
              "// WITHOUT WARRANTIES OR CONDITIONS OF ANY KIND, either express or implied.\n",
              "// See the License for the specific language governing permissions and\n",
              "// limitations under the License.\n",
              "\n",
              "/**\n",
              " * @fileoverview Helpers for google.colab Python module.\n",
              " */\n",
              "(function(scope) {\n",
              "function span(text, styleAttributes = {}) {\n",
              "  const element = document.createElement('span');\n",
              "  element.textContent = text;\n",
              "  for (const key of Object.keys(styleAttributes)) {\n",
              "    element.style[key] = styleAttributes[key];\n",
              "  }\n",
              "  return element;\n",
              "}\n",
              "\n",
              "// Max number of bytes which will be uploaded at a time.\n",
              "const MAX_PAYLOAD_SIZE = 100 * 1024;\n",
              "\n",
              "function _uploadFiles(inputId, outputId) {\n",
              "  const steps = uploadFilesStep(inputId, outputId);\n",
              "  const outputElement = document.getElementById(outputId);\n",
              "  // Cache steps on the outputElement to make it available for the next call\n",
              "  // to uploadFilesContinue from Python.\n",
              "  outputElement.steps = steps;\n",
              "\n",
              "  return _uploadFilesContinue(outputId);\n",
              "}\n",
              "\n",
              "// This is roughly an async generator (not supported in the browser yet),\n",
              "// where there are multiple asynchronous steps and the Python side is going\n",
              "// to poll for completion of each step.\n",
              "// This uses a Promise to block the python side on completion of each step,\n",
              "// then passes the result of the previous step as the input to the next step.\n",
              "function _uploadFilesContinue(outputId) {\n",
              "  const outputElement = document.getElementById(outputId);\n",
              "  const steps = outputElement.steps;\n",
              "\n",
              "  const next = steps.next(outputElement.lastPromiseValue);\n",
              "  return Promise.resolve(next.value.promise).then((value) => {\n",
              "    // Cache the last promise value to make it available to the next\n",
              "    // step of the generator.\n",
              "    outputElement.lastPromiseValue = value;\n",
              "    return next.value.response;\n",
              "  });\n",
              "}\n",
              "\n",
              "/**\n",
              " * Generator function which is called between each async step of the upload\n",
              " * process.\n",
              " * @param {string} inputId Element ID of the input file picker element.\n",
              " * @param {string} outputId Element ID of the output display.\n",
              " * @return {!Iterable<!Object>} Iterable of next steps.\n",
              " */\n",
              "function* uploadFilesStep(inputId, outputId) {\n",
              "  const inputElement = document.getElementById(inputId);\n",
              "  inputElement.disabled = false;\n",
              "\n",
              "  const outputElement = document.getElementById(outputId);\n",
              "  outputElement.innerHTML = '';\n",
              "\n",
              "  const pickedPromise = new Promise((resolve) => {\n",
              "    inputElement.addEventListener('change', (e) => {\n",
              "      resolve(e.target.files);\n",
              "    });\n",
              "  });\n",
              "\n",
              "  const cancel = document.createElement('button');\n",
              "  inputElement.parentElement.appendChild(cancel);\n",
              "  cancel.textContent = 'Cancel upload';\n",
              "  const cancelPromise = new Promise((resolve) => {\n",
              "    cancel.onclick = () => {\n",
              "      resolve(null);\n",
              "    };\n",
              "  });\n",
              "\n",
              "  // Wait for the user to pick the files.\n",
              "  const files = yield {\n",
              "    promise: Promise.race([pickedPromise, cancelPromise]),\n",
              "    response: {\n",
              "      action: 'starting',\n",
              "    }\n",
              "  };\n",
              "\n",
              "  cancel.remove();\n",
              "\n",
              "  // Disable the input element since further picks are not allowed.\n",
              "  inputElement.disabled = true;\n",
              "\n",
              "  if (!files) {\n",
              "    return {\n",
              "      response: {\n",
              "        action: 'complete',\n",
              "      }\n",
              "    };\n",
              "  }\n",
              "\n",
              "  for (const file of files) {\n",
              "    const li = document.createElement('li');\n",
              "    li.append(span(file.name, {fontWeight: 'bold'}));\n",
              "    li.append(span(\n",
              "        `(${file.type || 'n/a'}) - ${file.size} bytes, ` +\n",
              "        `last modified: ${\n",
              "            file.lastModifiedDate ? file.lastModifiedDate.toLocaleDateString() :\n",
              "                                    'n/a'} - `));\n",
              "    const percent = span('0% done');\n",
              "    li.appendChild(percent);\n",
              "\n",
              "    outputElement.appendChild(li);\n",
              "\n",
              "    const fileDataPromise = new Promise((resolve) => {\n",
              "      const reader = new FileReader();\n",
              "      reader.onload = (e) => {\n",
              "        resolve(e.target.result);\n",
              "      };\n",
              "      reader.readAsArrayBuffer(file);\n",
              "    });\n",
              "    // Wait for the data to be ready.\n",
              "    let fileData = yield {\n",
              "      promise: fileDataPromise,\n",
              "      response: {\n",
              "        action: 'continue',\n",
              "      }\n",
              "    };\n",
              "\n",
              "    // Use a chunked sending to avoid message size limits. See b/62115660.\n",
              "    let position = 0;\n",
              "    do {\n",
              "      const length = Math.min(fileData.byteLength - position, MAX_PAYLOAD_SIZE);\n",
              "      const chunk = new Uint8Array(fileData, position, length);\n",
              "      position += length;\n",
              "\n",
              "      const base64 = btoa(String.fromCharCode.apply(null, chunk));\n",
              "      yield {\n",
              "        response: {\n",
              "          action: 'append',\n",
              "          file: file.name,\n",
              "          data: base64,\n",
              "        },\n",
              "      };\n",
              "\n",
              "      let percentDone = fileData.byteLength === 0 ?\n",
              "          100 :\n",
              "          Math.round((position / fileData.byteLength) * 100);\n",
              "      percent.textContent = `${percentDone}% done`;\n",
              "\n",
              "    } while (position < fileData.byteLength);\n",
              "  }\n",
              "\n",
              "  // All done.\n",
              "  yield {\n",
              "    response: {\n",
              "      action: 'complete',\n",
              "    }\n",
              "  };\n",
              "}\n",
              "\n",
              "scope.google = scope.google || {};\n",
              "scope.google.colab = scope.google.colab || {};\n",
              "scope.google.colab._files = {\n",
              "  _uploadFiles,\n",
              "  _uploadFilesContinue,\n",
              "};\n",
              "})(self);\n",
              "</script> "
            ]
          },
          "metadata": {}
        },
        {
          "output_type": "stream",
          "name": "stdout",
          "text": [
            "Saving kaggle.json to kaggle (1).json\n"
          ]
        },
        {
          "output_type": "execute_result",
          "data": {
            "text/plain": [
              "{'kaggle (1).json': b'{\"username\":\"kgurnoor0101\",\"key\":\"f67794338d3651c679faa70d2ee15494\"}'}"
            ]
          },
          "metadata": {},
          "execution_count": 15
        }
      ]
    },
    {
      "cell_type": "code",
      "source": [
        "!mkdir -p ~/.kaggle\n",
        "!cp kaggle.json ~/.kaggle/\n",
        "!chmod 600 ~/.kaggle/kaggle.json\n"
      ],
      "metadata": {
        "id": "vxB3E-975kbb"
      },
      "execution_count": null,
      "outputs": []
    },
    {
      "cell_type": "code",
      "source": [
        "!pip install requests\n"
      ],
      "metadata": {
        "colab": {
          "base_uri": "https://localhost:8080/"
        },
        "id": "F021GqIw5t-F",
        "outputId": "0e805641-89e2-404c-8be5-f3f708f7e3c3"
      },
      "execution_count": null,
      "outputs": [
        {
          "output_type": "stream",
          "name": "stdout",
          "text": [
            "Requirement already satisfied: requests in /usr/local/lib/python3.12/dist-packages (2.32.4)\n",
            "Requirement already satisfied: charset_normalizer<4,>=2 in /usr/local/lib/python3.12/dist-packages (from requests) (3.4.3)\n",
            "Requirement already satisfied: idna<4,>=2.5 in /usr/local/lib/python3.12/dist-packages (from requests) (3.10)\n",
            "Requirement already satisfied: urllib3<3,>=1.21.1 in /usr/local/lib/python3.12/dist-packages (from requests) (2.5.0)\n",
            "Requirement already satisfied: certifi>=2017.4.17 in /usr/local/lib/python3.12/dist-packages (from requests) (2025.8.3)\n"
          ]
        }
      ]
    },
    {
      "cell_type": "code",
      "source": [
        "!kaggle datasets download -d ashfakyeafi/road-vehicle-images-dataset\n"
      ],
      "metadata": {
        "colab": {
          "base_uri": "https://localhost:8080/"
        },
        "id": "ls5NdQNm5wKm",
        "outputId": "cb4e7bfc-f808-4725-b261-5552d6a17eaf"
      },
      "execution_count": null,
      "outputs": [
        {
          "output_type": "stream",
          "name": "stdout",
          "text": [
            "Dataset URL: https://www.kaggle.com/datasets/ashfakyeafi/road-vehicle-images-dataset\n",
            "License(s): DbCL-1.0\n",
            "road-vehicle-images-dataset.zip: Skipping, found more recently modified local copy (use --force to force download)\n"
          ]
        }
      ]
    },
    {
      "cell_type": "code",
      "source": [
        "!unzip -q road-vehicle-images-dataset.zip -d traffic_data/"
      ],
      "metadata": {
        "colab": {
          "base_uri": "https://localhost:8080/"
        },
        "id": "kS979AhU5ybV",
        "outputId": "40cd5777-9cc5-4040-90d4-a3e1532fa637"
      },
      "execution_count": null,
      "outputs": [
        {
          "output_type": "stream",
          "name": "stdout",
          "text": [
            "replace traffic_data/trafic_data/data_1.yaml? [y]es, [n]o, [A]ll, [N]one, [r]ename: [n]o\n",
            "error:  invalid response [[n]o]\n",
            "replace traffic_data/trafic_data/data_1.yaml? [y]es, [n]o, [A]ll, [N]one, [r]ename: no\n",
            "replace traffic_data/trafic_data/train/images/01_jpg.rf.8d8a2f0f90d5b83893cd252acd832c93.jpg? [y]es, [n]o, [A]ll, [N]one, [r]ename: "
          ]
        }
      ]
    },
    {
      "cell_type": "code",
      "source": [
        "import os\n",
        "import random\n",
        "import shutil\n",
        "from google.colab import files\n",
        "\n",
        "# Set random seed for reproducibility (optional)\n",
        "random.seed(42)\n",
        "\n",
        "# Source and destination paths\n",
        "src_dir = \"traffic_data/trafic_data/train/images\"\n",
        "train_dst = \"content/images/train\"\n",
        "test_dst = \"content/images/test\"\n",
        "\n",
        "# Reset destination folders (clean start)\n",
        "shutil.rmtree(train_dst, ignore_errors=True)\n",
        "shutil.rmtree(test_dst, ignore_errors=True)\n",
        "os.makedirs(train_dst, exist_ok=True)\n",
        "os.makedirs(test_dst, exist_ok=True)\n",
        "\n",
        "# Get all image files (ignore non-images)\n",
        "all_images = [f for f in os.listdir(src_dir) if f.lower().endswith(('.png', '.jpg', '.jpeg'))]\n",
        "random.shuffle(all_images)\n",
        "\n",
        "# First select test set (50 images)\n",
        "test_random = all_images[:50]\n",
        "remaining = all_images[50:]\n",
        "\n",
        "# From remaining, take 92 train images\n",
        "train_random = remaining[:92]\n",
        "\n",
        "# Copy random train images\n",
        "for img in train_random:\n",
        "    shutil.copy(os.path.join(src_dir, img), os.path.join(train_dst, img))\n",
        "\n",
        "# Copy test images\n",
        "for img in test_random:\n",
        "    shutil.copy(os.path.join(src_dir, img), os.path.join(test_dst, img))\n",
        "\n",
        "print(\"✅ Random dataset split done.\")\n",
        "print(\"Now please upload exactly 8 personal images...\")\n",
        "\n",
        "# Upload your 8 personal images\n",
        "uploaded = files.upload()\n",
        "\n",
        "if len(uploaded) != 8:\n",
        "    print(f\"⚠️ You uploaded {len(uploaded)} images. Expected exactly 8!\")\n",
        "else:\n",
        "    for img_name in uploaded.keys():\n",
        "        # Avoid overwriting if same filename exists\n",
        "        dst_path = os.path.join(train_dst, img_name)\n",
        "        if os.path.exists(dst_path):\n",
        "            base, ext = os.path.splitext(img_name)\n",
        "            dst_path = os.path.join(train_dst, f\"{base}_personal{ext}\")\n",
        "        shutil.move(img_name, dst_path)\n",
        "\n",
        "    print(\"✅ Added 8 personal images to train set.\")\n",
        "\n",
        "# Final counts\n",
        "print(f\"📂 Train set size: {len(os.listdir(train_dst))} (expected 100)\")\n",
        "print(f\"📂 Test set size: {len(os.listdir(test_dst))} (expected 50)\")\n"
      ],
      "metadata": {
        "colab": {
          "base_uri": "https://localhost:8080/",
          "height": 507
        },
        "id": "wA2efgv76Qrz",
        "outputId": "4cde4398-4b90-4558-fc13-c510f43e1c56"
      },
      "execution_count": null,
      "outputs": [
        {
          "output_type": "stream",
          "name": "stdout",
          "text": [
            "✅ Random dataset split done.\n",
            "Now please upload exactly 8 personal images...\n"
          ]
        },
        {
          "output_type": "display_data",
          "data": {
            "text/plain": [
              "<IPython.core.display.HTML object>"
            ],
            "text/html": [
              "\n",
              "     <input type=\"file\" id=\"files-7bcaf12c-66fb-4aca-82ee-453c856d797e\" name=\"files[]\" multiple disabled\n",
              "        style=\"border:none\" />\n",
              "     <output id=\"result-7bcaf12c-66fb-4aca-82ee-453c856d797e\">\n",
              "      Upload widget is only available when the cell has been executed in the\n",
              "      current browser session. Please rerun this cell to enable.\n",
              "      </output>\n",
              "      <script>// Copyright 2017 Google LLC\n",
              "//\n",
              "// Licensed under the Apache License, Version 2.0 (the \"License\");\n",
              "// you may not use this file except in compliance with the License.\n",
              "// You may obtain a copy of the License at\n",
              "//\n",
              "//      http://www.apache.org/licenses/LICENSE-2.0\n",
              "//\n",
              "// Unless required by applicable law or agreed to in writing, software\n",
              "// distributed under the License is distributed on an \"AS IS\" BASIS,\n",
              "// WITHOUT WARRANTIES OR CONDITIONS OF ANY KIND, either express or implied.\n",
              "// See the License for the specific language governing permissions and\n",
              "// limitations under the License.\n",
              "\n",
              "/**\n",
              " * @fileoverview Helpers for google.colab Python module.\n",
              " */\n",
              "(function(scope) {\n",
              "function span(text, styleAttributes = {}) {\n",
              "  const element = document.createElement('span');\n",
              "  element.textContent = text;\n",
              "  for (const key of Object.keys(styleAttributes)) {\n",
              "    element.style[key] = styleAttributes[key];\n",
              "  }\n",
              "  return element;\n",
              "}\n",
              "\n",
              "// Max number of bytes which will be uploaded at a time.\n",
              "const MAX_PAYLOAD_SIZE = 100 * 1024;\n",
              "\n",
              "function _uploadFiles(inputId, outputId) {\n",
              "  const steps = uploadFilesStep(inputId, outputId);\n",
              "  const outputElement = document.getElementById(outputId);\n",
              "  // Cache steps on the outputElement to make it available for the next call\n",
              "  // to uploadFilesContinue from Python.\n",
              "  outputElement.steps = steps;\n",
              "\n",
              "  return _uploadFilesContinue(outputId);\n",
              "}\n",
              "\n",
              "// This is roughly an async generator (not supported in the browser yet),\n",
              "// where there are multiple asynchronous steps and the Python side is going\n",
              "// to poll for completion of each step.\n",
              "// This uses a Promise to block the python side on completion of each step,\n",
              "// then passes the result of the previous step as the input to the next step.\n",
              "function _uploadFilesContinue(outputId) {\n",
              "  const outputElement = document.getElementById(outputId);\n",
              "  const steps = outputElement.steps;\n",
              "\n",
              "  const next = steps.next(outputElement.lastPromiseValue);\n",
              "  return Promise.resolve(next.value.promise).then((value) => {\n",
              "    // Cache the last promise value to make it available to the next\n",
              "    // step of the generator.\n",
              "    outputElement.lastPromiseValue = value;\n",
              "    return next.value.response;\n",
              "  });\n",
              "}\n",
              "\n",
              "/**\n",
              " * Generator function which is called between each async step of the upload\n",
              " * process.\n",
              " * @param {string} inputId Element ID of the input file picker element.\n",
              " * @param {string} outputId Element ID of the output display.\n",
              " * @return {!Iterable<!Object>} Iterable of next steps.\n",
              " */\n",
              "function* uploadFilesStep(inputId, outputId) {\n",
              "  const inputElement = document.getElementById(inputId);\n",
              "  inputElement.disabled = false;\n",
              "\n",
              "  const outputElement = document.getElementById(outputId);\n",
              "  outputElement.innerHTML = '';\n",
              "\n",
              "  const pickedPromise = new Promise((resolve) => {\n",
              "    inputElement.addEventListener('change', (e) => {\n",
              "      resolve(e.target.files);\n",
              "    });\n",
              "  });\n",
              "\n",
              "  const cancel = document.createElement('button');\n",
              "  inputElement.parentElement.appendChild(cancel);\n",
              "  cancel.textContent = 'Cancel upload';\n",
              "  const cancelPromise = new Promise((resolve) => {\n",
              "    cancel.onclick = () => {\n",
              "      resolve(null);\n",
              "    };\n",
              "  });\n",
              "\n",
              "  // Wait for the user to pick the files.\n",
              "  const files = yield {\n",
              "    promise: Promise.race([pickedPromise, cancelPromise]),\n",
              "    response: {\n",
              "      action: 'starting',\n",
              "    }\n",
              "  };\n",
              "\n",
              "  cancel.remove();\n",
              "\n",
              "  // Disable the input element since further picks are not allowed.\n",
              "  inputElement.disabled = true;\n",
              "\n",
              "  if (!files) {\n",
              "    return {\n",
              "      response: {\n",
              "        action: 'complete',\n",
              "      }\n",
              "    };\n",
              "  }\n",
              "\n",
              "  for (const file of files) {\n",
              "    const li = document.createElement('li');\n",
              "    li.append(span(file.name, {fontWeight: 'bold'}));\n",
              "    li.append(span(\n",
              "        `(${file.type || 'n/a'}) - ${file.size} bytes, ` +\n",
              "        `last modified: ${\n",
              "            file.lastModifiedDate ? file.lastModifiedDate.toLocaleDateString() :\n",
              "                                    'n/a'} - `));\n",
              "    const percent = span('0% done');\n",
              "    li.appendChild(percent);\n",
              "\n",
              "    outputElement.appendChild(li);\n",
              "\n",
              "    const fileDataPromise = new Promise((resolve) => {\n",
              "      const reader = new FileReader();\n",
              "      reader.onload = (e) => {\n",
              "        resolve(e.target.result);\n",
              "      };\n",
              "      reader.readAsArrayBuffer(file);\n",
              "    });\n",
              "    // Wait for the data to be ready.\n",
              "    let fileData = yield {\n",
              "      promise: fileDataPromise,\n",
              "      response: {\n",
              "        action: 'continue',\n",
              "      }\n",
              "    };\n",
              "\n",
              "    // Use a chunked sending to avoid message size limits. See b/62115660.\n",
              "    let position = 0;\n",
              "    do {\n",
              "      const length = Math.min(fileData.byteLength - position, MAX_PAYLOAD_SIZE);\n",
              "      const chunk = new Uint8Array(fileData, position, length);\n",
              "      position += length;\n",
              "\n",
              "      const base64 = btoa(String.fromCharCode.apply(null, chunk));\n",
              "      yield {\n",
              "        response: {\n",
              "          action: 'append',\n",
              "          file: file.name,\n",
              "          data: base64,\n",
              "        },\n",
              "      };\n",
              "\n",
              "      let percentDone = fileData.byteLength === 0 ?\n",
              "          100 :\n",
              "          Math.round((position / fileData.byteLength) * 100);\n",
              "      percent.textContent = `${percentDone}% done`;\n",
              "\n",
              "    } while (position < fileData.byteLength);\n",
              "  }\n",
              "\n",
              "  // All done.\n",
              "  yield {\n",
              "    response: {\n",
              "      action: 'complete',\n",
              "    }\n",
              "  };\n",
              "}\n",
              "\n",
              "scope.google = scope.google || {};\n",
              "scope.google.colab = scope.google.colab || {};\n",
              "scope.google.colab._files = {\n",
              "  _uploadFiles,\n",
              "  _uploadFilesContinue,\n",
              "};\n",
              "})(self);\n",
              "</script> "
            ]
          },
          "metadata": {}
        },
        {
          "output_type": "stream",
          "name": "stdout",
          "text": [
            "Saving IMG-20250911-WA0015.jpg to IMG-20250911-WA0015.jpg\n",
            "Saving IMG-20250921-WA0020.jpg to IMG-20250921-WA0020.jpg\n",
            "Saving IMG-20250921-WA0021.jpg to IMG-20250921-WA0021.jpg\n",
            "Saving IMG-20250921-WA0022.jpg to IMG-20250921-WA0022.jpg\n",
            "Saving IMG-20250921-WA0023.jpg to IMG-20250921-WA0023.jpg\n",
            "Saving IMG-20250921-WA0024.jpg to IMG-20250921-WA0024.jpg\n",
            "Saving IMG-20250921-WA0025.jpg to IMG-20250921-WA0025.jpg\n",
            "Saving IMG-20250921-WA0026.jpg to IMG-20250921-WA0026.jpg\n",
            "✅ Added 8 personal images to train set.\n",
            "📂 Train set size: 100 (expected 100)\n",
            "📂 Test set size: 50 (expected 50)\n"
          ]
        }
      ]
    },
    {
      "cell_type": "code",
      "source": [
        "import shutil\n",
        "\n",
        "# Create a zip file of the folder\n",
        "shutil.make_archive(\"images_dataset\", 'zip', \"/content/content/images\")\n",
        "\n",
        "# Download to local laptop\n",
        "from google.colab import files\n",
        "files.download(\"images_dataset.zip\")\n"
      ],
      "metadata": {
        "colab": {
          "base_uri": "https://localhost:8080/",
          "height": 17
        },
        "id": "IWCWzGmL7HiG",
        "outputId": "80453bc3-4858-4a4f-aa5e-f3a1f8af2d06"
      },
      "execution_count": null,
      "outputs": [
        {
          "output_type": "display_data",
          "data": {
            "text/plain": [
              "<IPython.core.display.Javascript object>"
            ],
            "application/javascript": [
              "\n",
              "    async function download(id, filename, size) {\n",
              "      if (!google.colab.kernel.accessAllowed) {\n",
              "        return;\n",
              "      }\n",
              "      const div = document.createElement('div');\n",
              "      const label = document.createElement('label');\n",
              "      label.textContent = `Downloading \"${filename}\": `;\n",
              "      div.appendChild(label);\n",
              "      const progress = document.createElement('progress');\n",
              "      progress.max = size;\n",
              "      div.appendChild(progress);\n",
              "      document.body.appendChild(div);\n",
              "\n",
              "      const buffers = [];\n",
              "      let downloaded = 0;\n",
              "\n",
              "      const channel = await google.colab.kernel.comms.open(id);\n",
              "      // Send a message to notify the kernel that we're ready.\n",
              "      channel.send({})\n",
              "\n",
              "      for await (const message of channel.messages) {\n",
              "        // Send a message to notify the kernel that we're ready.\n",
              "        channel.send({})\n",
              "        if (message.buffers) {\n",
              "          for (const buffer of message.buffers) {\n",
              "            buffers.push(buffer);\n",
              "            downloaded += buffer.byteLength;\n",
              "            progress.value = downloaded;\n",
              "          }\n",
              "        }\n",
              "      }\n",
              "      const blob = new Blob(buffers, {type: 'application/binary'});\n",
              "      const a = document.createElement('a');\n",
              "      a.href = window.URL.createObjectURL(blob);\n",
              "      a.download = filename;\n",
              "      div.appendChild(a);\n",
              "      a.click();\n",
              "      div.remove();\n",
              "    }\n",
              "  "
            ]
          },
          "metadata": {}
        },
        {
          "output_type": "display_data",
          "data": {
            "text/plain": [
              "<IPython.core.display.Javascript object>"
            ],
            "application/javascript": [
              "download(\"download_b9ea841e-85bf-436d-b0b8-b162fda6d0da\", \"images_dataset.zip\", 7388805)"
            ]
          },
          "metadata": {}
        }
      ]
    },
    {
      "cell_type": "code",
      "source": [
        "# ============================================\n",
        "# Complete Train/Test + Labellerr Upload Workflow\n",
        "# Using your personal dataset (already prepared)\n",
        "# ============================================\n",
        "\n",
        "!pip install -q https://github.com/tensormatics/SDKPython/releases/download/prod/labellerr_sdk-1.0.0.tar.gz\n",
        "!git clone https://github.com/Labellerr/Hands-On-Learning-in-Computer-Vision.git || true\n",
        "\n",
        "import sys, os, shutil\n",
        "sys.path.append(\"/content/Hands-On-Learning-in-Computer-Vision/SDK Tutorials\")\n",
        "\n",
        "from labellerr.client import LabellerrClient\n",
        "from labellerr.exceptions import LabellerrError\n",
        "\n",
        "# 1️⃣ Set your credentials in Colab environment\n",
        "client_id  = os.getenv(\"LABEL_CLIENT_ID\")\n",
        "api_key    = os.getenv(\"LABEL_API_KEY\")\n",
        "api_secret = os.getenv(\"LABEL_API_SECRET\")\n",
        "email      = \"gurnoorkaur4oct24@gmail.com\"\n",
        "\n",
        "if not all([client_id, api_key, api_secret, email]):\n",
        "    raise ValueError(\"❌ Set LABEL_CLIENT_ID, LABEL_API_KEY, LABEL_API_SECRET, LABEL_EMAIL in environment!\")\n",
        "\n",
        "# Initialize Labellerr client\n",
        "client = LabellerrClient(api_key=api_key, api_secret=api_secret)\n",
        "\n",
        "# ============================================\n",
        "# 2️⃣ Use your already-prepared dataset\n",
        "# ============================================\n",
        "\n",
        "train_dst = \"/content/content/images/train\"   # contains 100 images (92 + 8 personal)\n",
        "test_dst  = \"/content/content/images/test\"    # contains 50 images\n",
        "\n",
        "print(f\"📂 Train images: {len(os.listdir(train_dst))}\")\n",
        "print(f\"📂 Test images: {len(os.listdir(test_dst))}\")\n",
        "# ============================================\n",
        "# 3️⃣ Labellerr Annotation Guide\n",
        "# ============================================\n",
        "annotation_guide = [\n",
        "    {\n",
        "        \"question_number\": 1,\n",
        "        \"question\": \"Objects in Image\",\n",
        "        \"question_id\": \"q-objects-001\",\n",
        "        \"option_type\": \"polygon\",\n",
        "        \"required\": True,\n",
        "        \"options\": [\n",
        "            {\"option_name\": \"vehicle\"},\n",
        "            {\"option_name\": \"pedestrian\"}\n",
        "        ],\n",
        "        \"question_metadata\": []\n",
        "    }\n",
        "]\n",
        "\n",
        "# ============================================\n",
        "# 4️⃣ Helper function to create projects\n",
        "# ============================================\n",
        "\n",
        "def create_project(payload, project_type=\"\"):\n",
        "    try:\n",
        "        result = client.initiate_create_project(payload)\n",
        "        proj_id = result['project_id']['response']['project_id']\n",
        "        print(f\"✅ {project_type} project created! Project ID: {proj_id}\")\n",
        "    except LabellerrError as e:\n",
        "        print(f\"❌ {project_type} project creation failed:\", e)\n",
        "    except Exception as ex:\n",
        "        print(f\"⚠️ Unexpected error for {project_type}:\", ex)\n",
        "\n",
        "# ============================================\n",
        "# 5️⃣ Create Train and Test projects (upload personal dataset)\n",
        "# ============================================\n",
        "\n",
        "train_payload = {\n",
        "    'client_id': client_id,\n",
        "    'dataset_name': 'vehicles_trainset-current',\n",
        "    'dataset_description': 'Train set (includes personal images) for YOLO-Seg annotation',\n",
        "    'data_type': 'image',\n",
        "    'created_by': email,\n",
        "    'project_name': 'Vehicle_Segmentation_Train-current',\n",
        "    'annotation_guide': annotation_guide,\n",
        "    'rotation_config': {\n",
        "        'annotation_rotation_count': 1,\n",
        "        'review_rotation_count': 1,\n",
        "        'client_review_rotation_count': 1\n",
        "    },\n",
        "    'autolabel': False,\n",
        "    'folder_to_upload': train_dst\n",
        "}\n",
        "\n",
        "test_payload = {\n",
        "    'client_id': client_id,\n",
        "    'dataset_name': 'vehicles_testset-current',\n",
        "    'dataset_description': 'Test set for YOLO-Seg',\n",
        "    'data_type': 'image',\n",
        "    'created_by': email,\n",
        "    'project_name': 'Vehicle_Segmentation_Test-current',\n",
        "    'annotation_guide': annotation_guide,\n",
        "    'rotation_config': {\n",
        "        'annotation_rotation_count': 1,\n",
        "        'review_rotation_count': 1,\n",
        "        'client_review_rotation_count': 1\n",
        "    },\n",
        "    'autolabel': False,\n",
        "    'folder_to_upload': test_dst\n",
        "}\n",
        "\n",
        "create_project(train_payload, \"Train\")\n",
        "create_project(test_payload, \"Test\")\n"
      ],
      "metadata": {
        "colab": {
          "base_uri": "https://localhost:8080/"
        },
        "id": "p0oFMW0P9CVM",
        "outputId": "415c4a9e-651e-4274-a8cd-386c73414fb2"
      },
      "execution_count": null,
      "outputs": [
        {
          "output_type": "stream",
          "name": "stdout",
          "text": [
            "  Preparing metadata (setup.py) ... \u001b[?25l\u001b[?25hdone\n",
            "fatal: destination path 'Hands-On-Learning-in-Computer-Vision' already exists and is not an empty directory.\n",
            "📂 Train images: 100\n",
            "📂 Test images: 50\n",
            "Rotation configuration validated . . .\n",
            "Creating dataset . . .\n",
            "Total file count: 100\n",
            "Total file size: 5.1 MB\n",
            "CPU count 2  Batch Count 1\n"
          ]
        },
        {
          "output_type": "stream",
          "name": "stderr",
          "text": [
            "WARNING:root:Polling timed out after 60 seconds (13 attempts)\n"
          ]
        },
        {
          "output_type": "stream",
          "name": "stdout",
          "text": [
            "Dataset created and ready for use\n",
            "Annotation guidelines created\n",
            "✅ Train project created! Project ID: fancy_shivering_magpie_38178\n",
            "Rotation configuration validated . . .\n",
            "Creating dataset . . .\n",
            "Total file count: 50\n",
            "Total file size: 1.9 MB\n",
            "CPU count 2  Batch Count 1\n"
          ]
        },
        {
          "output_type": "stream",
          "name": "stderr",
          "text": [
            "WARNING:root:Polling timed out after 60 seconds (13 attempts)\n"
          ]
        },
        {
          "output_type": "stream",
          "name": "stdout",
          "text": [
            "Dataset created and ready for use\n",
            "Annotation guidelines created\n",
            "✅ Test project created! Project ID: odelle_moderate_whippet_90705\n"
          ]
        }
      ]
    },
    {
      "cell_type": "code",
      "source": [],
      "metadata": {
        "id": "rpYHxtduTEht"
      },
      "execution_count": null,
      "outputs": []
    }
  ]
}